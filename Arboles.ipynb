{
  "nbformat": 4,
  "nbformat_minor": 0,
  "metadata": {
    "colab": {
      "name": "Arboles.ipynb",
      "provenance": [],
      "authorship_tag": "ABX9TyMCXpoCfH8nWUPGAnies6sd",
      "include_colab_link": true
    },
    "kernelspec": {
      "name": "python3",
      "display_name": "Python 3"
    },
    "language_info": {
      "name": "python"
    }
  },
  "cells": [
    {
      "cell_type": "markdown",
      "metadata": {
        "id": "view-in-github",
        "colab_type": "text"
      },
      "source": [
        "<a href=\"https://colab.research.google.com/github/EnriqueHdzSv/EstructuraDeDatos/blob/main/Arboles.ipynb\" target=\"_parent\"><img src=\"https://colab.research.google.com/assets/colab-badge.svg\" alt=\"Open In Colab\"/></a>"
      ]
    },
    {
      "cell_type": "code",
      "metadata": {
        "id": "8vn6iriHt6pU"
      },
      "source": [
        "class BinaryNode:\n",
        "  def __init__(self, value, left=None, rigth=None):\n",
        "    self.data = value\n",
        "    self.left = left\n",
        "    self.rigth = rigth\n",
        "\n",
        "class TernaryNode:\n",
        "  def __init__(self, value, left=None, center=None, rigth=None):\n",
        "    self.data = value\n",
        "    self.left = left\n",
        "    self.rigth = rigth\n",
        "  "
      ],
      "execution_count": 1,
      "outputs": []
    },
    {
      "cell_type": "code",
      "metadata": {
        "id": "G_kYR0McvGzK"
      },
      "source": [
        "root = BinaryNode(\"R\", BinaryNode(\"C\"), BinaryNode(\"H\"))\n",
        "print(root.lefth.data)"
      ],
      "execution_count": null,
      "outputs": []
    },
    {
      "cell_type": "code",
      "metadata": {
        "colab": {
          "base_uri": "https://localhost:8080/"
        },
        "id": "p4Wg4kOGwLnm",
        "outputId": "72279865-cc98-4286-fe30-96a16302ebdf"
      },
      "source": [
        "root=TernaryNode(4,\\\n",
        "    TernaryNode(3,TernaryNode(5, TernaryNode(2)),\\\n",
        "                TernaryNode(5),TernaryNode(2)),\\\n",
        "                None,TernaryNode(5))\n",
        "print(root.left.left.left.data)\n",
        "print(\".-.-.-.-.-.-.-.-.-\")\n",
        "aux = root\n",
        "while aux.left != None:\n",
        "  aux = aux.left\n",
        "print(aux.data)\n",
        "print(\".-.-.-.-.-.-.-.-.-.-\")\n",
        "print(root.left.rigth.data)\n"
      ],
      "execution_count": 11,
      "outputs": [
        {
          "output_type": "stream",
          "name": "stdout",
          "text": [
            "2\n",
            ".-.-.-.-.-.-.-.-.-\n",
            "2\n",
            ".-.-.-.-.-.-.-.-.-.-\n",
            "2\n"
          ]
        }
      ]
    },
    {
      "cell_type": "code",
      "metadata": {
        "colab": {
          "base_uri": "https://localhost:8080/"
        },
        "id": "ABVoe0Ti6D7x",
        "outputId": "dc646925-4ca9-4055-d002-9708a8998f64"
      },
      "source": [
        "root=BinaryNode(\"Santi\",None,\\\n",
        "                BinaryNode(\"Jesus\",BinaryNode(\"Pedro\",None,BinaryNode(\"PedroJr\"))))\n",
        "print(root.rigth.left.rigth.data)"
      ],
      "execution_count": 14,
      "outputs": [
        {
          "output_type": "stream",
          "name": "stdout",
          "text": [
            "PedroJr\n"
          ]
        }
      ]
    }
  ]
}