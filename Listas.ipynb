{
  "nbformat": 4,
  "nbformat_minor": 0,
  "metadata": {
    "colab": {
      "name": "Listas.ipynb",
      "provenance": []
    },
    "kernelspec": {
      "name": "python3",
      "display_name": "Python 3"
    },
    "language_info": {
      "name": "python"
    }
  },
  "cells": [
    {
      "cell_type": "code",
      "metadata": {
        "id": "3KcM_461R-v-"
      },
      "source": [
        "class Nodo:\n",
        "  def __init__(self, value, siguiente=None):\n",
        "    self.data = value\n",
        "    self.next = siguiente"
      ],
      "execution_count": 3,
      "outputs": []
    },
    {
      "cell_type": "code",
      "metadata": {
        "colab": {
          "base_uri": "https://localhost:8080/"
        },
        "id": "uCCAQ6ZMTixL",
        "outputId": "d18b7a87-32fa-46ee-b0ac-6719a6fce1b9"
      },
      "source": [
        "head=Nodo(30)\n",
        "print(head.data)\n",
        "print(head.next)\n"
      ],
      "execution_count": 11,
      "outputs": [
        {
          "output_type": "stream",
          "name": "stdout",
          "text": [
            "30\n",
            "None\n"
          ]
        }
      ]
    },
    {
      "cell_type": "code",
      "metadata": {
        "colab": {
          "base_uri": "https://localhost:8080/"
        },
        "id": "Th4_KRsBWv73",
        "outputId": "df21cdc6-aa9d-4d88-ae5d-5e5d3b0e8c30"
      },
      "source": [
        "head2 = Nodo(20)\n",
        "head2.next=Nodo(15)\n",
        "print(head2.data)\n",
        "#print(head2.next)\n",
        "print(head2.next.data)\n",
        "#print(head2.next.next)\n",
        "\n",
        "print(\"Hacer lo mismo con el segundo metodo\")\n",
        "print(head2.data)\n",
        "print(head2.next.data)"
      ],
      "execution_count": 14,
      "outputs": [
        {
          "output_type": "stream",
          "name": "stdout",
          "text": [
            "20\n",
            "15\n",
            "Hacer lo mismo con el segundo metodo\n",
            "20\n",
            "15\n"
          ]
        }
      ]
    }
  ]
}